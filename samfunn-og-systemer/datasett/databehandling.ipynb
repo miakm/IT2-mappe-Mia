{
 "cells": [
  {
   "attachments": {},
   "cell_type": "markdown",
   "metadata": {},
   "source": [
    "# Standarer for lagring, utveksling og sikring av ulike typer data"
   ]
  },
  {
   "attachments": {},
   "cell_type": "markdown",
   "metadata": {},
   "source": [
    "## Lærplanen sier\n",
    "\n",
    "Mål for opplæringen er at eleven skal kunne:\n",
    "- gjøre rede for standarder for lagring, utveksling og sikring av ulike typer data [[1]](https://www.udir.no/lk20/inf01-02/kompetansemaal-og-vurdering/kv472)"
   ]
  },
  {
   "attachments": {},
   "cell_type": "markdown",
   "metadata": {},
   "source": [
    "### Datasett i Python\n",
    "\n",
    "> En stor samling av data kalles ofte for et datasett"
   ]
  },
  {
   "cell_type": "code",
   "execution_count": null,
   "metadata": {},
   "outputs": [
    {
     "data": {
      "text/plain": [
       "[<matplotlib.lines.Line2D at 0x119d4afa0>]"
      ]
     },
     "execution_count": 4,
     "metadata": {},
     "output_type": "execute_result"
    },
    {
     "data": {
      "image/png": "[encoded data removed]",
      "text/plain": [
       "<Figure size 640x480 with 1 Axes>"
      ]
     },
     "metadata": {},
     "output_type": "display_data"
    }
   ],
   "source": [
    "import matplotlib.pyplot as plt\n",
    "\n",
    "fil = open(\"./internet-users.csv\")\n",
    "data = fil.read()\n",
    "linjer = data.split(\"\\n\")\n",
    "\n",
    "brukere = []\n",
    "år = []\n",
    "brukere_prosent = []\n",
    "\n",
    "for linje in linjer[:-1]: #obs siste linje i CSV er ofte tom, løses ved å sette på dette (evt slett siste linje i csv-filen)\n",
    "    splittet_linje = linje.split(\",\") #splitter linje på komma\n",
    "    if splittet_linje[1] == \"Norway\":\n",
    "        brukere.append(float(splittet_linje[6]))\n",
    "        år.append(int(splittet_linje[3]))\n",
    "        brukere_prosent.append(float(splittet_linje[5]))\n",
    "\n",
    "\n",
    "\n",
    "plt.plot(år, brukere_prosent)\n"
   ]
  },
  {
   "attachments": {},
   "cell_type": "markdown",
   "metadata": {},
   "source": [
    "### Oppgaver\n",
    "\n",
    "1. Hva gjør koden over?\n",
    "    Koden over henter brukere fra internet-users.csv, minus den siste linjen fordi det er en tom linje. I for-løkken blir listen splittet. Dersom landet er Norge går koden videre og deretter blir årstallet som ligger på plass 3 i listen hentet ut. Plass 6 tilsvarer antall brukere i året, her brukes float for å få et heltall. Koden plotter antall brukere per år i Norge.\n",
    "2. Endre koden slik at plottet viser antall brukere som prosent av befolkningen\n",
    "3. Bruk filen `List of world cities by population density.csv` og finn ut hvilket land som har flest byer på topp-50 listen av byer med høyest befolkningstetthet.\n",
    "4. Bruk filen `AirBnb-Europe.csv` og finn ut hvilken by som er billigst å leie leilighet i"
   ]
  },
  {
   "cell_type": "code",
   "execution_count": 85,
   "metadata": {},
   "outputs": [
    {
     "name": "stdout",
     "output_type": "stream",
     "text": [
      "India\n"
     ]
    }
   ],
   "source": [
    "fil = open(\"./List of world cities by population density.csv\")\n",
    "data = fil.read()\n",
    "linjer = data.split(\"\\n\")\n",
    "\n",
    "land = []\n",
    "for linje in linjer[:-1]: \n",
    "    splittet_linje = linje.split(\",\") \n",
    "    land.append(splittet_linje[-1])\n",
    "\n",
    "høyeste = \"\"\n",
    "høyeste_antall = -1\n",
    "\n",
    "for l in land:\n",
    "    antall = land.count(l)\n",
    "    if antall > høyeste_antall:\n",
    "        høyeste = l\n",
    "        høyeste_antall = antall\n",
    "print(høyeste)\n",
    "\n",
    "\n",
    "        "
   ]
  },
  {
   "cell_type": "code",
   "execution_count": 102,
   "metadata": {},
   "outputs": [
    {
     "name": "stdout",
     "output_type": "stream",
     "text": [
      "34.77933919255534\n"
     ]
    }
   ],
   "source": [
    "fil = open(\"./AirBnb-Europe.csv\")\n",
    "data = fil.read()\n",
    "linjer = data.split(\"\\n\")\n",
    "\n",
    "priser = []\n",
    "by = []\n",
    "for linje in linjer[1:-1]: \n",
    "    splittet_linje = linje.split(\",\") \n",
    "    priser.append(float(splittet_linje[1]))\n",
    "    by.append(splittet_linje[0])\n",
    "\n",
    "\n",
    "laveste = 10000000000\n",
    "\n",
    "for pris in priser:\n",
    "    if pris < laveste:\n",
    "        laveste = pris\n",
    "print(laveste)\n",
    "\n",
    "\n"
   ]
  }
 ],
 "metadata": {
  "kernelspec": {
   "display_name": "Python 3",
   "language": "python",
   "name": "python3"
  },
  "language_info": {
   "codemirror_mode": {
    "name": "ipython",
    "version": 3
   },
   "file_extension": ".py",
   "mimetype": "text/x-python",
   "name": "python",
   "nbconvert_exporter": "python",
   "pygments_lexer": "ipython3",
   "version": "3.8.2"
  },
  "orig_nbformat": 4,
  "vscode": {
   "interpreter": {
    "hash": "31f2aee4e71d21fbe5cf8b01ff0e069b9275f58929596ceb00d14d90e3e16cd6"
   }
  }
 },
 "nbformat": 4,
 "nbformat_minor": 2
}
